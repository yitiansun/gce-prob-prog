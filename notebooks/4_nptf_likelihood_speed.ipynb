{
 "cells": [
  {
   "cell_type": "code",
   "execution_count": 1,
   "metadata": {},
   "outputs": [],
   "source": [
    "%reload_ext autoreload\n",
    "%autoreload 2\n",
    "\n",
    "import sys\n",
    "\n",
    "import jax\n",
    "jax.config.update(\"jax_enable_x64\", True)\n",
    "import jax.numpy as jnp\n",
    "\n",
    "sys.path.append(\"..\")\n",
    "from likelihoods.npll_jax import log_like_np\n",
    "from templates.variable_templates import NFWTemplate\n",
    "from utils import create_mask as cm\n",
    "from utils.psf import KingPSF\n",
    "from utils.psf_correction import PSFCorrection"
   ]
  },
  {
   "cell_type": "markdown",
   "metadata": {},
   "source": [
    "# JAX"
   ]
  },
  {
   "cell_type": "code",
   "execution_count": 2,
   "metadata": {},
   "outputs": [
    {
     "name": "stdout",
     "output_type": "stream",
     "text": [
      "Loading the psf correction from: ../data/psf_dir/Fermi_PSF_2GeV2_nside128.npy\n"
     ]
    }
   ],
   "source": [
    "data = jnp.load(f\"../data/fermi_data_573w/fermi_data_128/fermidata_counts.npy\").astype(jnp.int32)\n",
    "mask_ps = jnp.load(f\"../data/mask_3fgl_0p8deg.npy\")\n",
    "mask = cm.make_mask_total(nside=128, band_mask=True, band_mask_range=2, mask_ring=True, inner=0, outer=25, custom_mask=mask_ps)\n",
    "data_in = data[~mask]\n",
    "jnp.save(\"../data/tmp/data_in.npy\", data_in)\n",
    "pt = jnp.load(\"../data/fermi_data_573w/fermi_data_128/template_Opi.npy\")[~mask]\n",
    "jnp.save(\"../data/tmp/pt.npy\", pt)\n",
    "nfw_template = NFWTemplate(nside=128)\n",
    "npt = nfw_template.get_NFW2_template(gamma=1.2)[~mask]\n",
    "npt = npt[None, :]\n",
    "jnp.save(\"../data/tmp/npt.npy\", npt)\n",
    "k_max = int(jnp.max(data_in))\n",
    "npixROI = int(jnp.sum(~mask))\n",
    "\n",
    "# psf\n",
    "kp = KingPSF()\n",
    "pc_inst = PSFCorrection(delay_compute=True, num_f_bins=15, nside=128)\n",
    "pc_inst.psf_r_func = lambda r: kp.psf_fermi_r(r)\n",
    "pc_inst.sample_psf_max = 10.0 * kp.spe * (kp.score + kp.stail) / 2.0\n",
    "pc_inst.psf_samples = 10000\n",
    "pc_inst.psf_tag = \"Fermi_PSF_2GeV2_nside128\"\n",
    "pc_inst.make_or_load_psf_corr()\n",
    "f_arr = pc_inst.f_ary\n",
    "df_rho_div_f_arr = pc_inst.df_rho_div_f_ary"
   ]
  },
  {
   "cell_type": "code",
   "execution_count": 3,
   "metadata": {},
   "outputs": [],
   "source": [
    "def jax_run(n):\n",
    "    keys = [jax.random.PRNGKey(0)]\n",
    "    for _ in range(n):\n",
    "        keys = jax.random.split(keys[0], 7)\n",
    "        Sps = jax.random.uniform(keys[1], shape=(1,), minval=1.0, maxval=2.0)\n",
    "        n1 = jax.random.uniform(keys[2], shape=(1,), minval=4.0, maxval=6.0)\n",
    "        n2 = jax.random.uniform(keys[3], shape=(1,), minval=0.5, maxval=1.99)\n",
    "        n3 = jax.random.uniform(keys[4], shape=(1,), minval=-6.0, maxval=-5.0)\n",
    "        sb1 = jax.random.uniform(keys[5], shape=(1,), minval=5.0, maxval=10.0)\n",
    "        lambda_s = jax.random.uniform(keys[6], shape=(1,), minval=0.1, maxval=0.95)\n",
    "        theta = jnp.array([[Sps, n1, n2, n3, sb1, lambda_s*sb1]])\n",
    "        log_like_np(theta, pt, npt, data_in, f_arr, df_rho_div_f_arr, k_max, npixROI).block_until_ready()"
   ]
  },
  {
   "cell_type": "code",
   "execution_count": 4,
   "metadata": {},
   "outputs": [
    {
     "name": "stdout",
     "output_type": "stream",
     "text": [
      "CPU times: user 19 s, sys: 3.92 s, total: 23 s\n",
      "Wall time: 25.4 s\n"
     ]
    }
   ],
   "source": [
    "%time jax_run(5000)"
   ]
  },
  {
   "cell_type": "code",
   "execution_count": 5,
   "metadata": {},
   "outputs": [
    {
     "data": {
      "text/plain": [
       "[cuda(id=0)]"
      ]
     },
     "execution_count": 5,
     "metadata": {},
     "output_type": "execute_result"
    }
   ],
   "source": [
    "jax.devices()"
   ]
  },
  {
   "cell_type": "code",
   "execution_count": 6,
   "metadata": {},
   "outputs": [
    {
     "name": "stdout",
     "output_type": "stream",
     "text": [
      "Tue Jun 18 01:56:06 2024       \n",
      "+-----------------------------------------------------------------------------------------+\n",
      "| NVIDIA-SMI 550.54.15              Driver Version: 550.54.15      CUDA Version: 12.4     |\n",
      "|-----------------------------------------+------------------------+----------------------+\n",
      "| GPU  Name                 Persistence-M | Bus-Id          Disp.A | Volatile Uncorr. ECC |\n",
      "| Fan  Temp   Perf          Pwr:Usage/Cap |           Memory-Usage | GPU-Util  Compute M. |\n",
      "|                                         |                        |               MIG M. |\n",
      "|=========================================+========================+======================|\n",
      "|   0  NVIDIA A100-SXM4-40GB          On  |   00000000:31:00.0 Off |                   On |\n",
      "| N/A   24C    P0             51W /  400W |   15253MiB /  40960MiB |     N/A      Default |\n",
      "|                                         |                        |              Enabled |\n",
      "+-----------------------------------------+------------------------+----------------------+\n",
      "\n",
      "+-----------------------------------------------------------------------------------------+\n",
      "| MIG devices:                                                                            |\n",
      "+------------------+----------------------------------+-----------+-----------------------+\n",
      "| GPU  GI  CI  MIG |                     Memory-Usage |        Vol|      Shared           |\n",
      "|      ID  ID  Dev |                       BAR1-Usage | SM     Unc| CE ENC DEC OFA JPG    |\n",
      "|                  |                                  |        ECC|                       |\n",
      "|==================+==================================+===========+=======================|\n",
      "|  0    2   0   0  |           15216MiB / 19968MiB    | 42      0 |  3   0    2    0    0 |\n",
      "|                  |                 2MiB / 32767MiB  |           |                       |\n",
      "+------------------+----------------------------------+-----------+-----------------------+\n",
      "                                                                                         \n",
      "+-----------------------------------------------------------------------------------------+\n",
      "| Processes:                                                                              |\n",
      "|  GPU   GI   CI        PID   Type   Process name                              GPU Memory |\n",
      "|        ID   ID                                                               Usage      |\n",
      "|=========================================================================================|\n",
      "|    0    2    0    2610535      C   .../yitians/.conda/envs/jax/bin/python      15170MiB |\n"
     ]
    },
    {
     "name": "stderr",
     "output_type": "stream",
     "text": [
      "/n/home07/yitians/.conda/envs/jax/lib/python3.12/pty.py:95: RuntimeWarning: os.fork() was called. os.fork() is incompatible with multithreaded code, and JAX is multithreaded, so this will likely lead to a deadlock.\n",
      "  pid, fd = os.forkpty()\n"
     ]
    },
    {
     "name": "stdout",
     "output_type": "stream",
     "text": [
      "+-----------------------------------------------------------------------------------------+\n"
     ]
    }
   ],
   "source": [
    "! nvidia-smi"
   ]
  },
  {
   "cell_type": "markdown",
   "metadata": {},
   "source": [
    "# NPTF"
   ]
  },
  {
   "cell_type": "code",
   "execution_count": 1,
   "metadata": {},
   "outputs": [],
   "source": [
    "%reload_ext autoreload\n",
    "%autoreload 2\n",
    "\n",
    "import sys\n",
    "\n",
    "import numpy as np\n",
    "np.float = np.float64\n",
    "\n",
    "sys.path.append(\"/n/home07/yitians/fermi/NPTFit/NPTFit\")\n",
    "sys.path.append(\"/n/home07/yitians/fermi/NPTFit\")\n",
    "from NPTFit import npll"
   ]
  },
  {
   "cell_type": "code",
   "execution_count": 2,
   "metadata": {},
   "outputs": [],
   "source": [
    "data_in = np.load(\"../data/tmp/data_in.npy\")\n",
    "pt = np.load(\"../data/tmp/pt.npy\")\n",
    "npt = np.load(\"../data/tmp/npt.npy\")\n",
    "k_max = int(np.max(data_in))\n",
    "npixROI = len(data_in)\n",
    "f_arr, df_rho_div_f_arr = np.load(\"../data/psf_dir/Fermi_PSF_2GeV2_nside128.npy\")"
   ]
  },
  {
   "cell_type": "code",
   "execution_count": 4,
   "metadata": {},
   "outputs": [],
   "source": [
    "def nptf_run(n):\n",
    "    for _ in range(n):\n",
    "        Sps = np.random.uniform(1.0, 2.0)\n",
    "        n1 = np.random.uniform(4.0, 6.0)\n",
    "        n2 = np.random.uniform(0.5, 1.99)\n",
    "        n3 = np.random.uniform(-6.0, -5.0)\n",
    "        sb1 = np.random.uniform(5.0, 10.0)\n",
    "        lambda_s = np.random.uniform(0.1, 0.95)\n",
    "        theta = np.array([[Sps, n1, n2, n3, sb1, lambda_s*sb1]])\n",
    "        npll.log_like(pt, theta, f_arr, df_rho_div_f_arr, npt, data_in)"
   ]
  },
  {
   "cell_type": "code",
   "execution_count": 6,
   "metadata": {},
   "outputs": [
    {
     "name": "stdout",
     "output_type": "stream",
     "text": [
      "CPU times: user 17.4 s, sys: 1.35 s, total: 18.8 s\n",
      "Wall time: 18.8 s\n"
     ]
    }
   ],
   "source": [
    "%time nptf_run(500)"
   ]
  },
  {
   "cell_type": "code",
   "execution_count": 7,
   "metadata": {},
   "outputs": [
    {
     "name": "stdout",
     "output_type": "stream",
     "text": [
      "Architecture:        x86_64\n",
      "CPU op-mode(s):      32-bit, 64-bit\n",
      "Byte Order:          Little Endian\n",
      "CPU(s):              64\n",
      "On-line CPU(s) list: 0-63\n",
      "Thread(s) per core:  1\n",
      "Core(s) per socket:  32\n",
      "Socket(s):           2\n",
      "NUMA node(s):        2\n",
      "Vendor ID:           GenuineIntel\n",
      "CPU family:          6\n",
      "Model:               106\n",
      "Model name:          Intel(R) Xeon(R) Platinum 8358 CPU @ 2.60GHz\n",
      "Stepping:            6\n",
      "CPU MHz:             3400.000\n",
      "CPU max MHz:         3400.0000\n",
      "CPU min MHz:         800.0000\n",
      "BogoMIPS:            5200.00\n",
      "Virtualization:      VT-x\n",
      "L1d cache:           48K\n",
      "L1i cache:           32K\n",
      "L2 cache:            1280K\n",
      "L3 cache:            49152K\n",
      "NUMA node0 CPU(s):   0-31\n",
      "NUMA node1 CPU(s):   32-63\n",
      "Flags:               fpu vme de pse tsc msr pae mce cx8 apic sep mtrr pge mca cmov pat pse36 clflush dts acpi mmx fxsr sse sse2 ss ht tm pbe syscall nx pdpe1gb rdtscp lm constant_tsc art arch_perfmon pebs bts rep_good nopl xtopology nonstop_tsc cpuid aperfmperf pni pclmulqdq dtes64 ds_cpl vmx smx est tm2 ssse3 sdbg fma cx16 xtpr pdcm pcid dca sse4_1 sse4_2 x2apic movbe popcnt tsc_deadline_timer aes xsave avx f16c rdrand lahf_lm abm 3dnowprefetch cpuid_fault epb cat_l3 invpcid_single intel_ppin ssbd mba ibrs ibpb stibp ibrs_enhanced tpr_shadow vnmi flexpriority ept vpid ept_ad fsgsbase tsc_adjust bmi1 avx2 smep bmi2 erms invpcid cqm rdt_a avx512f avx512dq rdseed adx smap avx512ifma clflushopt clwb intel_pt avx512cd sha_ni avx512bw avx512vl xsaveopt xsavec xgetbv1 xsaves cqm_llc cqm_occup_llc cqm_mbm_total cqm_mbm_local split_lock_detect wbnoinvd dtherm ida arat pln pts avx512vbmi umip pku ospke avx512_vbmi2 gfni vaes vpclmulqdq avx512_vnni avx512_bitalg tme avx512_vpopcntdq la57 rdpid fsrm md_clear pconfig flush_l1d arch_capabilities\n"
     ]
    }
   ],
   "source": [
    "! lscpu"
   ]
  },
  {
   "cell_type": "code",
   "execution_count": 9,
   "metadata": {},
   "outputs": [
    {
     "name": "stdout",
     "output_type": "stream",
     "text": [
      "MemTotal:       527460592 kB\n",
      "MemFree:        439802064 kB\n",
      "MemAvailable:   515752928 kB\n",
      "Buffers:            5392 kB\n",
      "Cached:         76174200 kB\n",
      "SwapCached:            0 kB\n",
      "Active:         53588728 kB\n",
      "Inactive:       26749928 kB\n",
      "Active(anon):       3920 kB\n",
      "Inactive(anon):  4228756 kB\n",
      "Active(file):   53584808 kB\n",
      "Inactive(file): 22521172 kB\n",
      "Unevictable:       65104 kB\n",
      "Mlocked:           65104 kB\n",
      "SwapTotal:             0 kB\n",
      "SwapFree:              0 kB\n",
      "Dirty:                 0 kB\n",
      "Writeback:            12 kB\n",
      "AnonPages:       4174964 kB\n",
      "Mapped:           507100 kB\n",
      "Shmem:             54628 kB\n",
      "KReclaimable:    3265276 kB\n",
      "Slab:            4971488 kB\n",
      "SReclaimable:    3265276 kB\n",
      "SUnreclaim:      1706212 kB\n",
      "KernelStack:       21968 kB\n",
      "PageTables:        87728 kB\n",
      "NFS_Unstable:          0 kB\n",
      "Bounce:                0 kB\n",
      "WritebackTmp:          0 kB\n",
      "CommitLimit:    263730296 kB\n",
      "Committed_AS:    3143888 kB\n",
      "VmallocTotal:   13743895347199 kB\n",
      "VmallocUsed:      377996 kB\n",
      "VmallocChunk:          0 kB\n",
      "Percpu:            63232 kB\n",
      "HardwareCorrupted:     0 kB\n",
      "AnonHugePages:   1187840 kB\n",
      "ShmemHugePages:        0 kB\n",
      "ShmemPmdMapped:        0 kB\n",
      "FileHugePages:         0 kB\n",
      "FilePmdMapped:         0 kB\n",
      "HugePages_Total:       0\n",
      "HugePages_Free:        0\n",
      "HugePages_Rsvd:        0\n",
      "HugePages_Surp:        0\n",
      "Hugepagesize:       2048 kB\n",
      "Hugetlb:               0 kB\n",
      "DirectMap4k:     8991000 kB\n",
      "DirectMap2M:    291594240 kB\n",
      "DirectMap1G:    238026752 kB\n"
     ]
    }
   ],
   "source": [
    "! cat /proc/meminfo"
   ]
  },
  {
   "cell_type": "markdown",
   "metadata": {},
   "source": [
    "# JAX CPU"
   ]
  },
  {
   "cell_type": "code",
   "execution_count": 2,
   "metadata": {},
   "outputs": [
    {
     "data": {
      "text/plain": [
       "[CpuDevice(id=0)]"
      ]
     },
     "execution_count": 2,
     "metadata": {},
     "output_type": "execute_result"
    }
   ],
   "source": [
    "jax.devices()"
   ]
  },
  {
   "cell_type": "code",
   "execution_count": 3,
   "metadata": {},
   "outputs": [
    {
     "name": "stdout",
     "output_type": "stream",
     "text": [
      "Loading the psf correction from: ../data/psf_dir/Fermi_PSF_2GeV2_nside128.npy\n"
     ]
    }
   ],
   "source": [
    "data = jnp.load(f\"../data/fermi_data_573w/fermi_data_128/fermidata_counts.npy\").astype(jnp.int32)\n",
    "mask_ps = jnp.load(f\"../data/mask_3fgl_0p8deg.npy\")\n",
    "mask = cm.make_mask_total(nside=128, band_mask=True, band_mask_range=2, mask_ring=True, inner=0, outer=25, custom_mask=mask_ps)\n",
    "data_in = data[~mask]\n",
    "jnp.save(\"../data/tmp/data_in.npy\", data_in)\n",
    "pt = jnp.load(\"../data/fermi_data_573w/fermi_data_128/template_Opi.npy\")[~mask]\n",
    "jnp.save(\"../data/tmp/pt.npy\", pt)\n",
    "nfw_template = NFWTemplate(nside=128)\n",
    "npt = nfw_template.get_NFW2_template(gamma=1.2)[~mask]\n",
    "npt = npt[None, :]\n",
    "jnp.save(\"../data/tmp/npt.npy\", npt)\n",
    "k_max = int(jnp.max(data_in))\n",
    "npixROI = int(jnp.sum(~mask))\n",
    "\n",
    "# psf\n",
    "kp = KingPSF()\n",
    "pc_inst = PSFCorrection(delay_compute=True, num_f_bins=15, nside=128)\n",
    "pc_inst.psf_r_func = lambda r: kp.psf_fermi_r(r)\n",
    "pc_inst.sample_psf_max = 10.0 * kp.spe * (kp.score + kp.stail) / 2.0\n",
    "pc_inst.psf_samples = 10000\n",
    "pc_inst.psf_tag = \"Fermi_PSF_2GeV2_nside128\"\n",
    "pc_inst.make_or_load_psf_corr()\n",
    "f_arr = pc_inst.f_ary\n",
    "df_rho_div_f_arr = pc_inst.df_rho_div_f_ary"
   ]
  },
  {
   "cell_type": "code",
   "execution_count": 4,
   "metadata": {},
   "outputs": [],
   "source": [
    "def jax_run(n):\n",
    "    keys = [jax.random.PRNGKey(0)]\n",
    "    for _ in range(n):\n",
    "        keys = jax.random.split(keys[0], 7)\n",
    "        Sps = jax.random.uniform(keys[1], shape=(1,), minval=1.0, maxval=2.0)\n",
    "        n1 = jax.random.uniform(keys[2], shape=(1,), minval=4.0, maxval=6.0)\n",
    "        n2 = jax.random.uniform(keys[3], shape=(1,), minval=0.5, maxval=1.99)\n",
    "        n3 = jax.random.uniform(keys[4], shape=(1,), minval=-6.0, maxval=-5.0)\n",
    "        sb1 = jax.random.uniform(keys[5], shape=(1,), minval=5.0, maxval=10.0)\n",
    "        lambda_s = jax.random.uniform(keys[6], shape=(1,), minval=0.1, maxval=0.95)\n",
    "        theta = jnp.array([[Sps, n1, n2, n3, sb1, lambda_s*sb1]])\n",
    "        log_like_np(theta, pt, npt, data_in, f_arr, df_rho_div_f_arr, k_max, npixROI).block_until_ready()"
   ]
  },
  {
   "cell_type": "code",
   "execution_count": 5,
   "metadata": {},
   "outputs": [
    {
     "name": "stdout",
     "output_type": "stream",
     "text": [
      "CPU times: user 16.2 s, sys: 244 ms, total: 16.5 s\n",
      "Wall time: 13.2 s\n"
     ]
    }
   ],
   "source": [
    "%time jax_run(100)"
   ]
  },
  {
   "cell_type": "code",
   "execution_count": 6,
   "metadata": {},
   "outputs": [
    {
     "name": "stdout",
     "output_type": "stream",
     "text": [
      "Architecture:        x86_64\n",
      "CPU op-mode(s):      32-bit, 64-bit\n",
      "Byte Order:          Little Endian\n",
      "CPU(s):              112\n",
      "On-line CPU(s) list: 0-111\n",
      "Thread(s) per core:  1\n",
      "Core(s) per socket:  56\n",
      "Socket(s):           2\n",
      "NUMA node(s):        2\n",
      "Vendor ID:           GenuineIntel\n",
      "CPU family:          6\n",
      "Model:               143\n",
      "Model name:          Intel(R) Xeon(R) Platinum 8480CL\n",
      "Stepping:            7\n",
      "CPU MHz:             3800.000\n",
      "CPU max MHz:         3800.0000\n",
      "CPU min MHz:         800.0000\n",
      "BogoMIPS:            4000.00\n",
      "L1d cache:           48K\n",
      "L1i cache:           32K\n",
      "L2 cache:            2048K\n",
      "L3 cache:            107520K\n",
      "NUMA node0 CPU(s):   0-55\n",
      "NUMA node1 CPU(s):   56-111\n",
      "Flags:               fpu vme de pse tsc msr pae mce cx8 apic sep mtrr pge mca cmov pat pse36 clflush dts acpi mmx fxsr sse sse2 ss ht tm pbe syscall nx pdpe1gb rdtscp lm constant_tsc art arch_perfmon pebs bts rep_good nopl xtopology nonstop_tsc cpuid aperfmperf tsc_known_freq pni pclmulqdq dtes64 ds_cpl smx est tm2 ssse3 sdbg fma cx16 xtpr pdcm pcid dca sse4_1 sse4_2 x2apic movbe popcnt tsc_deadline_timer aes xsave avx f16c rdrand lahf_lm abm 3dnowprefetch cpuid_fault epb cat_l3 cat_l2 cdp_l3 invpcid_single intel_ppin cdp_l2 ssbd mba ibrs ibpb stibp ibrs_enhanced fsgsbase tsc_adjust bmi1 avx2 smep bmi2 erms invpcid cqm rdt_a avx512f avx512dq rdseed adx smap avx512ifma clflushopt clwb intel_pt avx512cd sha_ni avx512bw avx512vl xsaveopt xsavec xgetbv1 xsaves cqm_llc cqm_occup_llc cqm_mbm_total cqm_mbm_local split_lock_detect avx_vnni avx512_bf16 wbnoinvd dtherm ida arat pln pts avx512vbmi umip pku ospke waitpkg avx512_vbmi2 gfni vaes vpclmulqdq avx512_vnni avx512_bitalg tme avx512_vpopcntdq la57 rdpid bus_lock_detect cldemote movdiri movdir64b enqcmd fsrm md_clear serialize tsxldtrk pconfig arch_lbr amx_bf16 avx512_fp16 amx_tile amx_int8 flush_l1d arch_capabilities\n"
     ]
    },
    {
     "name": "stderr",
     "output_type": "stream",
     "text": [
      "/n/home07/yitians/.conda/envs/jax/lib/python3.12/pty.py:95: RuntimeWarning: os.fork() was called. os.fork() is incompatible with multithreaded code, and JAX is multithreaded, so this will likely lead to a deadlock.\n",
      "  pid, fd = os.forkpty()\n"
     ]
    }
   ],
   "source": [
    "! lscpu"
   ]
  },
  {
   "cell_type": "code",
   "execution_count": 7,
   "metadata": {},
   "outputs": [
    {
     "name": "stdout",
     "output_type": "stream",
     "text": [
      "MemTotal:       1056005468 kB\n",
      "MemFree:        768496272 kB\n",
      "MemAvailable:   1011436476 kB\n",
      "Buffers:          105312 kB\n",
      "Cached:         213106144 kB\n",
      "SwapCached:            0 kB\n",
      "Active:         84617888 kB\n",
      "Inactive:       133548260 kB\n",
      "Active(anon):     158116 kB\n",
      "Inactive(anon):  5167096 kB\n",
      "Active(file):   84459772 kB\n",
      "Inactive(file): 128381164 kB\n",
      "Unevictable:       89596 kB\n",
      "Mlocked:           89596 kB\n",
      "SwapTotal:             0 kB\n",
      "SwapFree:              0 kB\n",
      "Dirty:              1452 kB\n",
      "Writeback:             0 kB\n",
      "AnonPages:       5017188 kB\n",
      "Mapped:          1180648 kB\n",
      "Shmem:            353648 kB\n",
      "KReclaimable:   35928132 kB\n",
      "Slab:           65858696 kB\n",
      "SReclaimable:   35928132 kB\n",
      "SUnreclaim:     29930564 kB\n",
      "KernelStack:       36064 kB\n",
      "PageTables:        65632 kB\n",
      "NFS_Unstable:          0 kB\n",
      "Bounce:                0 kB\n",
      "WritebackTmp:          0 kB\n",
      "CommitLimit:    528002732 kB\n",
      "Committed_AS:    7225472 kB\n",
      "VmallocTotal:   13743895347199 kB\n",
      "VmallocUsed:     1107632 kB\n",
      "VmallocChunk:          0 kB\n",
      "Percpu:           185024 kB\n",
      "HardwareCorrupted:     0 kB\n",
      "AnonHugePages:   1990656 kB\n",
      "ShmemHugePages:        0 kB\n",
      "ShmemPmdMapped:        0 kB\n",
      "FileHugePages:         0 kB\n",
      "FilePmdMapped:         0 kB\n",
      "HugePages_Total:       0\n",
      "HugePages_Free:        0\n",
      "HugePages_Rsvd:        0\n",
      "HugePages_Surp:        0\n",
      "Hugepagesize:       2048 kB\n",
      "Hugetlb:               0 kB\n",
      "DirectMap4k:    34099244 kB\n",
      "DirectMap2M:    921923584 kB\n",
      "DirectMap1G:    119537664 kB\n"
     ]
    }
   ],
   "source": [
    "! cat /proc/meminfo"
   ]
  },
  {
   "cell_type": "code",
   "execution_count": 4,
   "metadata": {},
   "outputs": [],
   "source": [
    "def jax_run(n):\n",
    "    rng_key = jax.random.PRNGKey(0)\n",
    "    keys = jax.random.split(rng_key, n)\n",
    "\n",
    "    Sps = jax.random.uniform(keys[0], shape=(n,), minval=1e-5, maxval=2.0)\n",
    "    n1 = jax.random.uniform(keys[1], shape=(n,), minval=4.0, maxval=6.0)\n",
    "    n2 = jax.random.uniform(keys[2], shape=(n,), minval=0.5, maxval=1.99)\n",
    "    n3 = jax.random.uniform(keys[3], shape=(n,), minval=-6.0, maxval=-5.0)\n",
    "    sb1 = jax.random.uniform(keys[4], shape=(n,), minval=5.0, maxval=40.0)\n",
    "    lambda_s = jax.random.uniform(keys[5], shape=(n,), minval=0.1, maxval=0.95)\n",
    "\n",
    "    theta = jnp.stack([Sps, n1, n2, n3, sb1, lambda_s * sb1], axis=1)[:, None, :]\n",
    "\n",
    "    ll_total = jax.vmap(lambda theta_single: log_like_np(\n",
    "        theta_single, pt, npt, data_in, f_arr, df_rho_div_f_arr, k_max, npixROI).sum())(theta)"
   ]
  },
  {
   "cell_type": "code",
   "execution_count": 6,
   "metadata": {},
   "outputs": [
    {
     "name": "stdout",
     "output_type": "stream",
     "text": [
      "CPU times: user 2min 33s, sys: 2.01 s, total: 2min 35s\n",
      "Wall time: 1min 20s\n"
     ]
    },
    {
     "data": {
      "text/plain": [
       "Array(-inf, dtype=float64)"
      ]
     },
     "execution_count": 6,
     "metadata": {},
     "output_type": "execute_result"
    }
   ],
   "source": [
    "%time jax_run(1000)"
   ]
  },
  {
   "cell_type": "markdown",
   "metadata": {},
   "source": [
    "# NPTF (CPU cluster for comparison)"
   ]
  },
  {
   "cell_type": "code",
   "execution_count": 1,
   "metadata": {},
   "outputs": [],
   "source": [
    "%reload_ext autoreload\n",
    "%autoreload 2\n",
    "\n",
    "import sys\n",
    "\n",
    "import numpy as np\n",
    "np.float = np.float64\n",
    "\n",
    "sys.path.append(\"/n/home07/yitians/fermi/NPTFit/NPTFit\")\n",
    "sys.path.append(\"/n/home07/yitians/fermi/NPTFit\")\n",
    "from NPTFit import npll"
   ]
  },
  {
   "cell_type": "code",
   "execution_count": 2,
   "metadata": {},
   "outputs": [],
   "source": [
    "data_in = np.load(\"../data/tmp/data_in.npy\")\n",
    "pt = np.load(\"../data/tmp/pt.npy\")\n",
    "npt = np.load(\"../data/tmp/npt.npy\")\n",
    "k_max = int(np.max(data_in))\n",
    "npixROI = len(data_in)\n",
    "f_arr, df_rho_div_f_arr = np.load(\"../data/psf_dir/Fermi_PSF_2GeV2_nside128.npy\")"
   ]
  },
  {
   "cell_type": "code",
   "execution_count": 3,
   "metadata": {},
   "outputs": [],
   "source": [
    "def nptf_run(n):\n",
    "    for _ in range(n):\n",
    "        Sps = np.random.uniform(1.0, 2.0)\n",
    "        n1 = np.random.uniform(4.0, 6.0)\n",
    "        n2 = np.random.uniform(0.5, 1.99)\n",
    "        n3 = np.random.uniform(-6.0, -5.0)\n",
    "        sb1 = np.random.uniform(5.0, 10.0)\n",
    "        lambda_s = np.random.uniform(0.1, 0.95)\n",
    "        theta = np.array([[Sps, n1, n2, n3, sb1, lambda_s*sb1]])\n",
    "        npll.log_like(pt, theta, f_arr, df_rho_div_f_arr, npt, data_in)"
   ]
  },
  {
   "cell_type": "code",
   "execution_count": 5,
   "metadata": {},
   "outputs": [
    {
     "name": "stdout",
     "output_type": "stream",
     "text": [
      "CPU times: user 3.22 s, sys: 272 ms, total: 3.49 s\n",
      "Wall time: 3.5 s\n"
     ]
    }
   ],
   "source": [
    "%time nptf_run(100)"
   ]
  },
  {
   "cell_type": "code",
   "execution_count": 6,
   "metadata": {},
   "outputs": [
    {
     "name": "stdout",
     "output_type": "stream",
     "text": [
      "Architecture:        x86_64\n",
      "CPU op-mode(s):      32-bit, 64-bit\n",
      "Byte Order:          Little Endian\n",
      "CPU(s):              112\n",
      "On-line CPU(s) list: 0-111\n",
      "Thread(s) per core:  1\n",
      "Core(s) per socket:  56\n",
      "Socket(s):           2\n",
      "NUMA node(s):        2\n",
      "Vendor ID:           GenuineIntel\n",
      "CPU family:          6\n",
      "Model:               143\n",
      "Model name:          Intel(R) Xeon(R) Platinum 8480CL\n",
      "Stepping:            7\n",
      "CPU MHz:             3800.000\n",
      "CPU max MHz:         3800.0000\n",
      "CPU min MHz:         800.0000\n",
      "BogoMIPS:            4000.00\n",
      "L1d cache:           48K\n",
      "L1i cache:           32K\n",
      "L2 cache:            2048K\n",
      "L3 cache:            107520K\n",
      "NUMA node0 CPU(s):   0-55\n",
      "NUMA node1 CPU(s):   56-111\n",
      "Flags:               fpu vme de pse tsc msr pae mce cx8 apic sep mtrr pge mca cmov pat pse36 clflush dts acpi mmx fxsr sse sse2 ss ht tm pbe syscall nx pdpe1gb rdtscp lm constant_tsc art arch_perfmon pebs bts rep_good nopl xtopology nonstop_tsc cpuid aperfmperf tsc_known_freq pni pclmulqdq dtes64 ds_cpl smx est tm2 ssse3 sdbg fma cx16 xtpr pdcm pcid dca sse4_1 sse4_2 x2apic movbe popcnt tsc_deadline_timer aes xsave avx f16c rdrand lahf_lm abm 3dnowprefetch cpuid_fault epb cat_l3 cat_l2 cdp_l3 invpcid_single intel_ppin cdp_l2 ssbd mba ibrs ibpb stibp ibrs_enhanced fsgsbase tsc_adjust bmi1 avx2 smep bmi2 erms invpcid cqm rdt_a avx512f avx512dq rdseed adx smap avx512ifma clflushopt clwb intel_pt avx512cd sha_ni avx512bw avx512vl xsaveopt xsavec xgetbv1 xsaves cqm_llc cqm_occup_llc cqm_mbm_total cqm_mbm_local split_lock_detect avx_vnni avx512_bf16 wbnoinvd dtherm ida arat pln pts avx512vbmi umip pku ospke waitpkg avx512_vbmi2 gfni vaes vpclmulqdq avx512_vnni avx512_bitalg tme avx512_vpopcntdq la57 rdpid bus_lock_detect cldemote movdiri movdir64b enqcmd fsrm md_clear serialize tsxldtrk pconfig arch_lbr amx_bf16 avx512_fp16 amx_tile amx_int8 flush_l1d arch_capabilities\n"
     ]
    }
   ],
   "source": [
    "! lscpu"
   ]
  },
  {
   "cell_type": "code",
   "execution_count": 7,
   "metadata": {},
   "outputs": [
    {
     "name": "stdout",
     "output_type": "stream",
     "text": [
      "MemTotal:       1056005468 kB\n",
      "MemFree:        765468108 kB\n",
      "MemAvailable:   1011379640 kB\n",
      "Buffers:          105312 kB\n",
      "Cached:         216077372 kB\n",
      "SwapCached:            0 kB\n",
      "Active:         84682728 kB\n",
      "Inactive:       136282512 kB\n",
      "Active(anon):     158188 kB\n",
      "Inactive(anon):  4994924 kB\n",
      "Active(file):   84524540 kB\n",
      "Inactive(file): 131287588 kB\n",
      "Unevictable:       89588 kB\n",
      "Mlocked:           89588 kB\n",
      "SwapTotal:             0 kB\n",
      "SwapFree:              0 kB\n",
      "Dirty:                 0 kB\n",
      "Writeback:           156 kB\n",
      "AnonPages:       4846024 kB\n",
      "Mapped:          1002152 kB\n",
      "Shmem:            353640 kB\n",
      "KReclaimable:   35928268 kB\n",
      "Slab:           66090588 kB\n",
      "SReclaimable:   35928268 kB\n",
      "SUnreclaim:     30162320 kB\n",
      "KernelStack:       34336 kB\n",
      "PageTables:        66440 kB\n",
      "NFS_Unstable:          0 kB\n",
      "Bounce:                0 kB\n",
      "WritebackTmp:          0 kB\n",
      "CommitLimit:    528002732 kB\n",
      "Committed_AS:    5963960 kB\n",
      "VmallocTotal:   13743895347199 kB\n",
      "VmallocUsed:     1105868 kB\n",
      "VmallocChunk:          0 kB\n",
      "Percpu:           185024 kB\n",
      "HardwareCorrupted:     0 kB\n",
      "AnonHugePages:   1968128 kB\n",
      "ShmemHugePages:        0 kB\n",
      "ShmemPmdMapped:        0 kB\n",
      "FileHugePages:         0 kB\n",
      "FilePmdMapped:         0 kB\n",
      "HugePages_Total:       0\n",
      "HugePages_Free:        0\n",
      "HugePages_Rsvd:        0\n",
      "HugePages_Surp:        0\n",
      "Hugepagesize:       2048 kB\n",
      "Hugetlb:               0 kB\n",
      "DirectMap4k:    34099244 kB\n",
      "DirectMap2M:    921923584 kB\n",
      "DirectMap1G:    119537664 kB\n"
     ]
    }
   ],
   "source": [
    "! cat /proc/meminfo"
   ]
  },
  {
   "cell_type": "code",
   "execution_count": null,
   "metadata": {},
   "outputs": [],
   "source": []
  }
 ],
 "metadata": {
  "kernelspec": {
   "display_name": "jax",
   "language": "python",
   "name": "python3"
  },
  "language_info": {
   "codemirror_mode": {
    "name": "ipython",
    "version": 3
   },
   "file_extension": ".py",
   "mimetype": "text/x-python",
   "name": "python",
   "nbconvert_exporter": "python",
   "pygments_lexer": "ipython3",
   "version": "3.12.3"
  }
 },
 "nbformat": 4,
 "nbformat_minor": 2
}
