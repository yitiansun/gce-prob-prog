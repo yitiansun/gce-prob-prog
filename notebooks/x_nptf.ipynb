{
 "cells": [
  {
   "cell_type": "code",
   "execution_count": 1,
   "metadata": {},
   "outputs": [],
   "source": [
    "import sys\n",
    "import pickle\n",
    "sys.path.append(\"../\")\n",
    "\n",
    "from jax.config import config\n",
    "config.update(\"jax_enable_x64\", True)\n",
    "\n",
    "import jax\n",
    "import jax.numpy as jnp\n",
    "import numpy as np\n",
    "import corner\n",
    "import matplotlib.pyplot as plt\n",
    "\n",
    "from models.nptf import NPModel\n",
    "\n",
    "%load_ext autoreload\n",
    "%autoreload 2"
   ]
  },
  {
   "cell_type": "code",
   "execution_count": 3,
   "metadata": {},
   "outputs": [
    {
     "name": "stdout",
     "output_type": "stream",
     "text": [
      "Loading the psf correction from: /Users/smsharma/Projects/gce-prob-prog/notebooks/psf_dir/Fermi_PSF_2GeV2_nside128.npy\n",
      "Max photon count is 22\n"
     ]
    }
   ],
   "source": [
    "npmodel = NPModel(dif_names=[\"ModelO\", \"ModelA\", \"ModelF\"],\n",
    "        bulge_template_names=[\"mcdermott2022\", \"mcdermott2022_bbp\", \"mcdermott2022_x\", \"macias2019\", \"coleman2019\"],\n",
    "        ps_cat=\"3fgl\",\n",
    "        r_outer=25,\n",
    "        band_mask_range=2.0,\n",
    "        nside=128,\n",
    "        n_exp=1,\n",
    ")"
   ]
  },
  {
   "cell_type": "code",
   "execution_count": null,
   "metadata": {},
   "outputs": [],
   "source": [
    "svi_results = npmodel.fit_svi(rng_key=jax.random.PRNGKey(42), n_steps=5000)"
   ]
  },
  {
   "cell_type": "code",
   "execution_count": null,
   "metadata": {},
   "outputs": [],
   "source": []
  }
 ],
 "metadata": {
  "kernelspec": {
   "display_name": "torch-mps",
   "language": "python",
   "name": "python3"
  },
  "language_info": {
   "codemirror_mode": {
    "name": "ipython",
    "version": 3
   },
   "file_extension": ".py",
   "mimetype": "text/x-python",
   "name": "python",
   "nbconvert_exporter": "python",
   "pygments_lexer": "ipython3",
   "version": "3.9.13"
  },
  "orig_nbformat": 4
 },
 "nbformat": 4,
 "nbformat_minor": 2
}
