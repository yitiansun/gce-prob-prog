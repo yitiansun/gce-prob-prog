{
 "cells": [
  {
   "cell_type": "code",
   "execution_count": null,
   "id": "8CKrioTb_Zm_",
   "metadata": {
    "id": "8CKrioTb_Zm_"
   },
   "outputs": [],
   "source": [
    "! pip install numpyro corner healpy einops reproject"
   ]
  },
  {
   "cell_type": "code",
   "execution_count": null,
   "id": "DlvETJJHP9aL",
   "metadata": {
    "id": "DlvETJJHP9aL"
   },
   "outputs": [],
   "source": [
    "# run only if LaTeX is needed\n",
    "! sudo apt install cm-super dvipng texlive-latex-extra texlive-latex-recommended"
   ]
  },
  {
   "cell_type": "code",
   "execution_count": null,
   "id": "V6cZjhpT_c5j",
   "metadata": {
    "colab": {
     "base_uri": "https://localhost:8080/"
    },
    "executionInfo": {
     "elapsed": 21191,
     "status": "ok",
     "timestamp": 1686162323414,
     "user": {
      "displayName": "Yitian Sun",
      "userId": "12821198055242656001"
     },
     "user_tz": 240
    },
    "id": "V6cZjhpT_c5j",
    "outputId": "108ef6e9-bbf3-49a9-a3dd-350dbedfa1b8"
   },
   "outputs": [
    {
     "name": "stdout",
     "output_type": "stream",
     "text": [
      "Mounted at /content/drive\n",
      "/content/drive/Othercomputers/My MacBook Pro/gce-prob-prog/notebooks\n"
     ]
    }
   ],
   "source": [
    "import sys\n",
    "from google.colab import drive\n",
    "drive.mount('/content/drive')\n",
    "sys.path.append(r'/content/drive/Othercomputers/My MacBook Pro/gce-prob-prog/')\n",
    "%cd /content/drive/Othercomputers/My MacBook Pro/gce-prob-prog/notebooks"
   ]
  },
  {
   "cell_type": "code",
   "execution_count": null,
   "id": "4fd5d998-7a9d-44e7-9c73-6d4aa2dd0d36",
   "metadata": {
    "id": "4fd5d998-7a9d-44e7-9c73-6d4aa2dd0d36"
   },
   "outputs": [],
   "source": [
    "%reload_ext autoreload\n",
    "%autoreload 2\n",
    "\n",
    "import os\n",
    "import sys\n",
    "sys.path.append(\"..\")\n",
    "\n",
    "import numpy as np\n",
    "import healpy as hp\n",
    "from astropy.io import fits\n",
    "from pprint import pprint\n",
    "from tqdm import tqdm\n",
    "import pickle\n",
    "\n",
    "import jax\n",
    "import numpyro.handlers as handlers\n",
    "from numpyro.infer import Trace_ELBO\n",
    "\n",
    "%matplotlib inline\n",
    "import matplotlib as mpl\n",
    "import matplotlib.pyplot as plt\n",
    "mpl.rc_file('matplotlibrc')"
   ]
  },
  {
   "cell_type": "code",
   "execution_count": null,
   "id": "ef159b8f-86e6-49e7-878c-e69669bfe983",
   "metadata": {
    "id": "ef159b8f-86e6-49e7-878c-e69669bfe983"
   },
   "outputs": [],
   "source": [
    "from models.poissonian_cart import GCEPyModel"
   ]
  },
  {
   "cell_type": "code",
   "execution_count": null,
   "id": "cf5130fe-a80f-4e34-8d00-d94059b2a973",
   "metadata": {
    "id": "cf5130fe-a80f-4e34-8d00-d94059b2a973"
   },
   "outputs": [],
   "source": [
    "output_dir = '../output/posteriors/compare_gcepy'"
   ]
  },
  {
   "cell_type": "markdown",
   "id": "xe8drQtRNcQB",
   "metadata": {
    "id": "xe8drQtRNcQB"
   },
   "source": [
    "## 1. fit\n",
    "### 1.1 single energy"
   ]
  },
  {
   "cell_type": "code",
   "execution_count": null,
   "id": "a4dc9aa6-3238-42aa-ab57-ec8e0c022e6a",
   "metadata": {
    "id": "a4dc9aa6-3238-42aa-ab57-ec8e0c022e6a"
   },
   "outputs": [],
   "source": [
    "ebinmodel = GCEPyModel(dif_names=['8t'], gce_names=['c19'])\n",
    "run_name = '8t_c19'\n",
    "os.makedirs(f'{output_dir}/{run_name}', exist_ok=True)"
   ]
  },
  {
   "cell_type": "code",
   "execution_count": null,
   "id": "ab3b56c6-d612-46fc-b16d-e42548784898",
   "metadata": {
    "id": "ab3b56c6-d612-46fc-b16d-e42548784898",
    "tags": []
   },
   "outputs": [],
   "source": [
    "for ie in range(14):\n",
    "    svi_results = ebinmodel.fit_SVI(\n",
    "        rng_key=jax.random.PRNGKey(123),\n",
    "        n_steps=20000,\n",
    "        guide='iaf',\n",
    "        lr=5e-5,\n",
    "        num_flows=5,\n",
    "        hidden_dims=[128, 128],\n",
    "        num_particles=64,\n",
    "        ebin=ie,\n",
    "        error_mode='none',\n",
    "    )\n",
    "    trace_elbo = Trace_ELBO(num_particles=1000) \n",
    "    elbo_loss = trace_elbo.loss(\n",
    "        jax.random.PRNGKey(242),\n",
    "        svi_results.params,\n",
    "        ebinmodel.model,\n",
    "        ebinmodel.guide,\n",
    "        ebin=ie,\n",
    "        error_mode='none',\n",
    "    )\n",
    "    samples = ebinmodel_gcepy.get_SVI_samples(num_samples=50000, expand_samples=True)\n",
    "    pickle.dump(samples, open(f'{output_dir}/{run_name}/ie{ie}_samples.p', 'wb'))\n",
    "    pickle.dump((svi_results, elbo_loss), open(f'{output_dir}/{run_name}/ie{ie}_fitinfo.p', 'wb'))"
   ]
  },
  {
   "cell_type": "markdown",
   "id": "hvZRlJhYNoz1",
   "metadata": {
    "id": "hvZRlJhYNoz1"
   },
   "source": [
    "### 1.2 full"
   ]
  },
  {
   "cell_type": "code",
   "execution_count": null,
   "id": "y2qeMLnzOHaU",
   "metadata": {
    "id": "y2qeMLnzOHaU"
   },
   "outputs": [],
   "source": [
    "svi_results = ebinmodel.fit_SVI(\n",
    "    rng_key=jax.random.PRNGKey(434534),\n",
    "    num_flows=5, hidden_dims=[128, 128],\n",
    "    n_steps=20000, lr=5e-5, num_particles=64,\n",
    "    ebin='all',\n",
    "    error_mode='none',\n",
    ")"
   ]
  },
  {
   "cell_type": "code",
   "execution_count": null,
   "id": "LmG_9HpxRIOO",
   "metadata": {
    "id": "LmG_9HpxRIOO"
   },
   "outputs": [],
   "source": [
    "svi_results.losses[-1]"
   ]
  },
  {
   "cell_type": "code",
   "execution_count": null,
   "id": "3Ul4yxMiOoUe",
   "metadata": {
    "id": "3Ul4yxMiOoUe"
   },
   "outputs": [],
   "source": [
    "samples = ebinmodel.get_svi_samples(num_samples=50000, expand_samples=True)\n",
    "pickle.dump((samples, svi_results), open(f'{output_dir}/gcepy_svi_full_errll_par16_3.p', 'wb'))"
   ]
  },
  {
   "cell_type": "markdown",
   "id": "2sUIGm69NlrF",
   "metadata": {
    "id": "2sUIGm69NlrF"
   },
   "source": [
    "## 2. Plotting"
   ]
  },
  {
   "cell_type": "code",
   "execution_count": null,
   "id": "2qRLb5KjTIfm",
   "metadata": {
    "id": "2qRLb5KjTIfm"
   },
   "outputs": [],
   "source": [
    "from utils.plotting import multi_corner"
   ]
  },
  {
   "cell_type": "code",
   "execution_count": null,
   "id": "FIeeMX0hTuTd",
   "metadata": {
    "id": "FIeeMX0hTuTd"
   },
   "outputs": [],
   "source": [
    "ebin_edges = np.array([0.275, 0.357, 0.464, 0.603, 0.784, 1.02, 1.32, 1.72,\n",
    "                       2.24, 2.91, 3.78, 4.91, 10.8, 23.7, 51.9])\n",
    "ebin_centers = (ebin_edges[1:] + ebin_edges[:-1]) / 2"
   ]
  },
  {
   "cell_type": "markdown",
   "id": "d7228e80-5a0a-4494-86c0-83460b38c95a",
   "metadata": {},
   "source": [
    "### 2.1 corner"
   ]
  },
  {
   "cell_type": "code",
   "execution_count": null,
   "id": "da8750e8-1205-4260-839c-cfd6de569c4a",
   "metadata": {
    "id": "da8750e8-1205-4260-839c-cfd6de569c4a",
    "tags": []
   },
   "outputs": [],
   "source": [
    "ie_tot = 14\n",
    "samples_dict = {\n",
    "    str(ie) : pickle.load(open(f'{output_dir}/8t_dm/ie{ie}_samples.p', 'rb'))\n",
    "    for ie in range(ie_tot)\n",
    "}\n",
    "colors_dict = {\n",
    "    str(ie) : mpl.cm.get_cmap('rainbow')(ie/(ie_tot-1))\n",
    "    for ie in range(ie_tot)\n",
    "}\n",
    "plot_var_names = [\n",
    "    'S_bub', 'S_gce', 'S_ics', 'S_iso', 'S_pib',\n",
    "]\n",
    "multi_corner(\n",
    "    samples_dict, plot_var_names,\n",
    "    colors_dict=colors_dict,\n",
    ")"
   ]
  },
  {
   "cell_type": "markdown",
   "id": "776f9eeb-a2d3-4b92-aae7-19e19c1f98c6",
   "metadata": {},
   "source": [
    "### 2.2 evidence"
   ]
  },
  {
   "cell_type": "code",
   "execution_count": null,
   "id": "d9L0z81AzcgL",
   "metadata": {
    "id": "d9L0z81AzcgL"
   },
   "outputs": [],
   "source": [
    "run_names = ['7p_dm', '7p_c19', '8t_dm', '8t_c19']\n",
    "\n",
    "elbo_dict = {\n",
    "    run_name : - np.array([\n",
    "        pickle.load(open(f'{output_dir}/{run_name}/ie{ie}_fitinfo.p', 'rb'))[1]\n",
    "        for ie in range(14)\n",
    "    ])\n",
    "    for run_name in run_names\n",
    "}"
   ]
  },
  {
   "cell_type": "code",
   "execution_count": null,
   "id": "RB1vYw5g9EC_",
   "metadata": {
    "colab": {
     "base_uri": "https://localhost:8080/",
     "height": 490
    },
    "executionInfo": {
     "elapsed": 735,
     "status": "ok",
     "timestamp": 1686167967574,
     "user": {
      "displayName": "Yitian Sun",
      "userId": "12821198055242656001"
     },
     "user_tz": 240
    },
    "id": "RB1vYw5g9EC_",
    "outputId": "47a8ea4a-5837-4d55-aad1-e79d48eaa6bd"
   },
   "outputs": [
    {
     "data": {
      "text/plain": [
       "<matplotlib.legend.Legend at 0x7fefc78d68c0>"
      ]
     },
     "execution_count": 39,
     "metadata": {},
     "output_type": "execute_result"
    },
    {
     "data": {
      "image/png": "[encoded data removed]",
      "text/plain": [
       "<Figure size 720x480 with 1 Axes>"
      ]
     },
     "metadata": {},
     "output_type": "display_data"
    }
   ],
   "source": [
    "color_dict = {\n",
    "    'dm' : mpl.colormaps['binary'](0.5),\n",
    "    'c19' : mpl.colormaps['Oranges'](0.5),\n",
    "}\n",
    "linestyle_dict = {\n",
    "    '7p' : '-',\n",
    "    '8t' : ':',\n",
    "}\n",
    "base = elbo_dict['7p_dm']\n",
    "\n",
    "fig, ax = plt.subplots()\n",
    "\n",
    "for i, run_name in enumerate(run_names):\n",
    "    color = color_dict[run_name.split('_')[1]]\n",
    "    linestyle = linestyle_dict[run_name.split('_')[0]]\n",
    "    ax.plot(ebin_centers, elbo_dict[k]-base, color=color, label=run_name, linestyle=linestyle)\n",
    "ax.set(xscale='log')\n",
    "ax.set(xlabel='$E$ [GeV]', ylabel='$\\Delta$ELBO (log evidence lower bound)')\n",
    "ax.legend(fontsize=12);"
   ]
  },
  {
   "cell_type": "code",
   "execution_count": null,
   "id": "aec43a9c-e2c6-46eb-afe7-160cb0502b43",
   "metadata": {
    "colab": {
     "base_uri": "https://localhost:8080/",
     "height": 1000
    },
    "executionInfo": {
     "elapsed": 8764,
     "status": "ok",
     "timestamp": 1685947438381,
     "user": {
      "displayName": "Yitian Sun",
      "userId": "12821198055242656001"
     },
     "user_tz": 240
    },
    "id": "aec43a9c-e2c6-46eb-afe7-160cb0502b43",
    "outputId": "2ae7c186-c50e-4f48-e5bd-84303ee9d9dd"
   },
   "outputs": [],
   "source": [
    "samples_dict = {\n",
    "    'noerr' : pickle.load(open(f'{output_dir}/compare_gcepy/gcepy_svi_full.p', 'rb'))[0],\n",
    "    #'errll' : pickle.load(open(f'{output_dir}/compare_gcepy/gcepy_svi_full_errll.p', 'rb'))[0],\n",
    "    'errll_1' : pickle.load(open(f'{output_dir}/compare_gcepy/gcepy_svi_full_errll_par16_1.p', 'rb'))[0],\n",
    "    'errll_2' : pickle.load(open(f'{output_dir}/compare_gcepy/gcepy_svi_full_errll_par16_2.p', 'rb'))[0],\n",
    "    'errll_3' : pickle.load(open(f'{output_dir}/compare_gcepy/gcepy_svi_full_errll_par16_3.p', 'rb'))[0],\n",
    "}\n",
    "colors_dict = {\n",
    "    'noerr' : mpl.colormaps['binary'](0.5),\n",
    "    'errll' : mpl.colormaps['binary'](0.9),\n",
    "    'errll_1' : mpl.colormaps['viridis'](0.7),\n",
    "    'errll_2' : mpl.colormaps['viridis'](0.8),\n",
    "    'errll_3' : mpl.colormaps['viridis'](0.9),\n",
    "}\n",
    "labels_dict = {\n",
    "    'noerr' : 'No errors',\n",
    "    'errll' : 'Errors in log likelihood',\n",
    "    'errll_1' : 'Errors in log likelihood run 1 (num_particle=16)',\n",
    "    'errll_2' : 'Errors in log likelihood run 2 (num_particle=16)',\n",
    "    'errll_3' : 'Errors in log likelihood run 3 (num_particle=16)',\n",
    "}\n",
    "plot_var_names = [\n",
    "    'theta_gce_bb', 'theta_gce_dm',\n",
    "    'S_bub', 'S_gce', 'S_ics', 'S_iso', 'S_pib',\n",
    "]\n",
    "multi_corner(\n",
    "    samples_dict, plot_var_names,\n",
    "    colors_dict=colors_dict, labels_dict=labels_dict,\n",
    "    save_fn=f\"{output_dir}/plots/gcepy_full.pdf\",\n",
    ")"
   ]
  },
  {
   "cell_type": "markdown",
   "id": "ejLKdIoSGYhQ",
   "metadata": {
    "id": "ejLKdIoSGYhQ"
   },
   "source": [
    "## Debug"
   ]
  },
  {
   "cell_type": "code",
   "execution_count": null,
   "id": "UIXN2QxxGXuG",
   "metadata": {
    "colab": {
     "base_uri": "https://localhost:8080/"
    },
    "executionInfo": {
     "elapsed": 758,
     "status": "ok",
     "timestamp": 1685375892248,
     "user": {
      "displayName": "Yitian Sun",
      "userId": "12821198055242656001"
     },
     "user_tz": 300
    },
    "id": "UIXN2QxxGXuG",
    "outputId": "0833a7e1-98d6-47e7-b7c8-834561367190"
   },
   "outputs": [],
   "source": [
    "with handlers.seed(rng_seed=42):\n",
    "    ll = ebinmodel.model()"
   ]
  }
 ],
 "metadata": {
  "accelerator": "GPU",
  "colab": {
   "gpuType": "T4",
   "machine_shape": "hm",
   "provenance": []
  },
  "kernelspec": {
   "display_name": "Python 3 (ipykernel)",
   "language": "python",
   "name": "python3"
  },
  "language_info": {
   "codemirror_mode": {
    "name": "ipython",
    "version": 3
   },
   "file_extension": ".py",
   "mimetype": "text/x-python",
   "name": "python",
   "nbconvert_exporter": "python",
   "pygments_lexer": "ipython3",
   "version": "3.10.5"
  }
 },
 "nbformat": 4,
 "nbformat_minor": 5
}
